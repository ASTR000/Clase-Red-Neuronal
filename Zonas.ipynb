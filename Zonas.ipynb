{
 "cells": [
  {
   "cell_type": "code",
   "execution_count": 2,
   "metadata": {},
   "outputs": [],
   "source": [
    "import numpy as np\n",
    "import pandas as pd\n",
    "import Red2 \n",
    "import matplotlib.pyplot as plt\n",
    "%load_ext autoreload\n",
    "%autoreload 2"
   ]
  },
  {
   "cell_type": "code",
   "execution_count": 89,
   "metadata": {},
   "outputs": [
    {
     "ename": "ValueError",
     "evalue": "operands could not be broadcast together with shapes (50,) (2,) ",
     "output_type": "error",
     "traceback": [
      "\u001b[1;31m---------------------------------------------------------------------------\u001b[0m",
      "\u001b[1;31mValueError\u001b[0m                                Traceback (most recent call last)",
      "Cell \u001b[1;32mIn[89], line 14\u001b[0m\n\u001b[0;32m     12\u001b[0m \u001b[39mfor\u001b[39;00m nodo, delta, radio \u001b[39min\u001b[39;00m \u001b[39mzip\u001b[39m(nodos,deltas,radios):\n\u001b[0;32m     13\u001b[0m     tmp \u001b[39m=\u001b[39m delta\n\u001b[1;32m---> 14\u001b[0m     x,y \u001b[39m=\u001b[39m radio\u001b[39m*\u001b[39;49mnp\u001b[39m.\u001b[39;49msin(tmp\u001b[39m.\u001b[39;49mT[\u001b[39m0\u001b[39;49m])\u001b[39m+\u001b[39;49mdelta[\u001b[39m0\u001b[39;49m], radio\u001b[39m*\u001b[39mnp\u001b[39m.\u001b[39mcos(tmp\u001b[39m.\u001b[39mT[\u001b[39m1\u001b[39m])\u001b[39m+\u001b[39mdelta[\u001b[39m1\u001b[39m]\n\u001b[0;32m     16\u001b[0m     max_x, max_y \u001b[39m=\u001b[39m np\u001b[39m.\u001b[39mmax(x), np\u001b[39m.\u001b[39mmax(y)\n\u001b[0;32m     17\u001b[0m     \u001b[39m#x=x/max_x\u001b[39;00m\n\u001b[0;32m     18\u001b[0m     \u001b[39m#y=y/max_y\u001b[39;00m\n",
      "\u001b[1;31mValueError\u001b[0m: operands could not be broadcast together with shapes (50,) (2,) "
     ]
    }
   ],
   "source": [
    "## GENERANDO LA DATA\n",
    "\n",
    "nodos = [ (2,3),(18,7),(5,8) ]\n",
    "cantidad_de_nodos = len(nodos)\n",
    "\n",
    "puntos_por_nodo = 50\n",
    "\n",
    "deltas = np.random.uniform(0,2*np.pi, (cantidad_de_nodos,puntos_por_nodo, 2))\n",
    "radios = np.random.randint(0,5, (cantidad_de_nodos,puntos_por_nodo))\n",
    "\n",
    "\n",
    "for nodo, delta, radio in zip(nodos,deltas,radios):\n",
    "    tmp = delta\n",
    "    x,y = radio*np.sin(tmp.T[0])+delta[0], radio*np.cos(tmp.T[1])+delta[1]\n",
    "\n",
    "    max_x, max_y = np.max(x), np.max(y)\n",
    "    #x=x/max_x\n",
    "    #y=y/max_y\n",
    "    plt.plot(x,y, '.')\n",
    "\n",
    "\n"
   ]
  }
 ],
 "metadata": {
  "kernelspec": {
   "display_name": "Python 3",
   "language": "python",
   "name": "python3"
  },
  "language_info": {
   "codemirror_mode": {
    "name": "ipython",
    "version": 3
   },
   "file_extension": ".py",
   "mimetype": "text/x-python",
   "name": "python",
   "nbconvert_exporter": "python",
   "pygments_lexer": "ipython3",
   "version": "3.10.6"
  },
  "orig_nbformat": 4,
  "vscode": {
   "interpreter": {
    "hash": "ec54569434173e6d3615bc49ea1fcf63dae3893839a53e2dfeb934fcb6bb8480"
   }
  }
 },
 "nbformat": 4,
 "nbformat_minor": 2
}
