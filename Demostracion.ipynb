{
 "cells": [
  {
   "cell_type": "code",
   "execution_count": 2,
   "metadata": {},
   "outputs": [],
   "source": [
    "import pandas as pd\n",
    "import Red2\n",
    "import numpy as np\n",
    "%load_ext autoreload\n",
    "%autoreload 2"
   ]
  },
  {
   "cell_type": "code",
   "execution_count": 3,
   "metadata": {},
   "outputs": [],
   "source": [
    "testW = pd.read_pickle('digitos_pesos.pkl')\n",
    "testB = pd.read_pickle('digitos_biases.pkl')\n",
    "\n",
    "w = testW.get('pesos').values\n",
    "b = testB.get('pesos').values\n",
    "\n",
    "red = Red2.Red([784,10,10,10])\n",
    "\n",
    "red.W = w\n",
    "red.B = b\n"
   ]
  },
  {
   "cell_type": "code",
   "execution_count": 4,
   "metadata": {},
   "outputs": [],
   "source": [
    "test_path = \"C:\\\\Users\\\\dorla\\\\Desktop\\\\Python\\\\RRNN\\\\data\\\\digit_test.csv\"\n",
    "test_data = pd.read_csv(test_path)\n",
    "\n",
    "columnas = test_data.keys().values\n",
    "\n"
   ]
  },
  {
   "cell_type": "code",
   "execution_count": 5,
   "metadata": {},
   "outputs": [],
   "source": [
    "test = test_data.get(columnas).values"
   ]
  },
  {
   "cell_type": "code",
   "execution_count": 17,
   "metadata": {},
   "outputs": [
    {
     "name": "stdout",
     "output_type": "stream",
     "text": [
      "[[0. 0. 0. 0. 0. 0. 0. 0. 1. 0.]]\n",
      "El digito correspondiente es:  8\n"
     ]
    },
    {
     "data": {
      "image/png": "[encoded data removed]",
      "text/plain": [
       "<Figure size 640x480 with 1 Axes>"
      ]
     },
     "metadata": {},
     "output_type": "display_data"
    }
   ],
   "source": [
    "## Prueba individual para var que tan bien le va a ala red.\n",
    "## Para elegir el digito, al final se elige el con seguridad mayor\n",
    "import matplotlib.pyplot as plt\n",
    "\n",
    "n1 = np.random.randint(0,2800)\n",
    "prueba1 = test[n1].reshape(1,784)\n",
    "fig, ax = plt.subplots(1,1)\n",
    "res = red.EvaluarBatch(prueba1)\n",
    "res_round = np.round(res.T)\n",
    "posibilidades = []\n",
    "i=0\n",
    "print(res_round)\n",
    "for var in res_round[0]:\n",
    "    if var != 0:\n",
    "        posibilidades.append(i)\n",
    "    \n",
    "    i+=1\n",
    "prueba1 = prueba1.reshape(28,28)\n",
    "plt.imshow(prueba1, cmap='gray')\n",
    "max_prob=0\n",
    "max = -1\n",
    "for j in posibilidades:\n",
    "    if res[j] > max_prob:\n",
    "        max_prob = res[j]\n",
    "        max = j\n",
    "print(\"El digito correspondiente es: \", max)"
   ]
  }
 ],
 "metadata": {
  "kernelspec": {
   "display_name": "Python 3",
   "language": "python",
   "name": "python3"
  },
  "language_info": {
   "codemirror_mode": {
    "name": "ipython",
    "version": 3
   },
   "file_extension": ".py",
   "mimetype": "text/x-python",
   "name": "python",
   "nbconvert_exporter": "python",
   "pygments_lexer": "ipython3",
   "version": "3.10.6"
  },
  "orig_nbformat": 4,
  "vscode": {
   "interpreter": {
    "hash": "ec54569434173e6d3615bc49ea1fcf63dae3893839a53e2dfeb934fcb6bb8480"
   }
  }
 },
 "nbformat": 4,
 "nbformat_minor": 2
}
