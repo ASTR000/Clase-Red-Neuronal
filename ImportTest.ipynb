{
 "cells": [
  {
   "cell_type": "code",
   "execution_count": 29,
   "metadata": {},
   "outputs": [],
   "source": [
    "import pandas as pd\n",
    "import Red2\n",
    "import numpy as np"
   ]
  },
  {
   "cell_type": "code",
   "execution_count": 30,
   "metadata": {},
   "outputs": [],
   "source": [
    "testW = pd.read_pickle('pesos.pkl')\n",
    "testB = pd.read_pickle('biases.pkl')\n",
    "\n",
    "w = testW.get('pesos').values\n",
    "b = testB.get('pesos').values\n",
    "\n",
    "red = Red2.Red(np.array([1,2,3]),np.array([1,2,3]),[784,10,10,10])\n",
    "\n",
    "red.W = w\n",
    "red.B = b\n"
   ]
  },
  {
   "cell_type": "code",
   "execution_count": 31,
   "metadata": {},
   "outputs": [],
   "source": [
    "test_path = \"C:\\\\Users\\\\dorla\\\\Desktop\\\\Python\\\\RRNN\\\\data\\\\digit_test.csv\"\n",
    "test_data = pd.read_csv(test_path)\n",
    "\n",
    "columnas = test_data.keys().values\n",
    "\n"
   ]
  },
  {
   "cell_type": "code",
   "execution_count": 32,
   "metadata": {},
   "outputs": [],
   "source": [
    "test = test_data.get(columnas).values"
   ]
  },
  {
   "cell_type": "code",
   "execution_count": 52,
   "metadata": {},
   "outputs": [
    {
     "name": "stdout",
     "output_type": "stream",
     "text": [
      "[[0. 0. 0. 0. 0. 0. 0. 0. 0. 0.]]\n",
      "El digito correspondiente es:  -1\n"
     ]
    },
    {
     "data": {
      "image/png": "[encoded data removed]",
      "text/plain": [
       "<Figure size 640x480 with 1 Axes>"
      ]
     },
     "metadata": {},
     "output_type": "display_data"
    }
   ],
   "source": [
    "## Prueba individual para var que tan bien le va a ala red.\n",
    "## Para elegir el digito, al final se elige el con seguridad mayor\n",
    "import matplotlib.pyplot as plt\n",
    "\n",
    "n1 = np.random.randint(0,2800)\n",
    "prueba1 = test[n1].reshape(1,784)\n",
    "fig, ax = plt.subplots(1,1)\n",
    "res = red.EvaluarConInput(prueba1)\n",
    "res_round = np.round(res.T)\n",
    "posibilidades = []\n",
    "i=0\n",
    "print(res_round)\n",
    "for var in res_round[0]:\n",
    "    if var != 0:\n",
    "        posibilidades.append(i)\n",
    "    \n",
    "    i+=1\n",
    "prueba1 = prueba1.reshape(28,28)\n",
    "plt.imshow(prueba1, cmap='gray')\n",
    "max_prob=0\n",
    "max = -1\n",
    "for j in posibilidades:\n",
    "    if res[j] > max_prob:\n",
    "        max_prob = res[j]\n",
    "        max = j\n",
    "print(\"El digito correspondiente es: \", max)"
   ]
  },
  {
   "cell_type": "code",
   "execution_count": 34,
   "metadata": {},
   "outputs": [
    {
     "name": "stdout",
     "output_type": "stream",
     "text": [
      "[[ 0.17176973  0.94748905  0.63703916 ... -0.61284814  0.93775147\n",
      "  -0.42517611]\n",
      " [ 0.2724044  -0.62731298 -0.95192143 ... -0.75940577 -0.06647248\n",
      "   0.24316118]\n",
      " [ 0.85163282 -0.32737466  0.08429542 ... -0.42460903 -0.49999045\n",
      "  -0.46703581]\n",
      " ...\n",
      " [ 0.04424601 -0.98878876 -0.00187041 ... -0.67520105 -0.43414711\n",
      "  -0.40098818]\n",
      " [-0.407832    0.4020751   0.73122926 ... -0.29366088  0.0201448\n",
      "   0.73065983]\n",
      " [-0.5746512   0.74692708 -0.40414411 ...  0.75811229  0.96998269\n",
      "   0.22041019]]\n"
     ]
    }
   ],
   "source": [
    "print(red.W[0])"
   ]
  }
 ],
 "metadata": {
  "kernelspec": {
   "display_name": "Python 3",
   "language": "python",
   "name": "python3"
  },
  "language_info": {
   "codemirror_mode": {
    "name": "ipython",
    "version": 3
   },
   "file_extension": ".py",
   "mimetype": "text/x-python",
   "name": "python",
   "nbconvert_exporter": "python",
   "pygments_lexer": "ipython3",
   "version": "3.10.6"
  },
  "orig_nbformat": 4,
  "vscode": {
   "interpreter": {
    "hash": "ec54569434173e6d3615bc49ea1fcf63dae3893839a53e2dfeb934fcb6bb8480"
   }
  }
 },
 "nbformat": 4,
 "nbformat_minor": 2
}
